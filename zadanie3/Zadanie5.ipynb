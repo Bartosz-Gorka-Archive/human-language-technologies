{
  "nbformat": 4,
  "nbformat_minor": 0,
  "metadata": {
    "kernelspec": {
      "display_name": "Python 3",
      "language": "python",
      "name": "python3"
    },
    "language_info": {
      "codemirror_mode": {
        "name": "ipython",
        "version": 3
      },
      "file_extension": ".py",
      "mimetype": "text/x-python",
      "name": "python",
      "nbconvert_exporter": "python",
      "pygments_lexer": "ipython3",
      "version": "3.6.9"
    },
    "colab": {
      "name": "InzynieriaLingwistycznaZadanie5.ipynb",
      "provenance": [],
      "collapsed_sections": []
    }
  },
  "cells": [
    {
      "cell_type": "markdown",
      "metadata": {
        "id": "dvd6tZFCATh5",
        "colab_type": "text"
      },
      "source": [
        "# Inżynieria lingwistyczna\n",
        "Ten notebook jest oceniany półautomatycznie. Nie twórz ani nie usuwaj komórek - struktura notebooka musi zostać zachowana. Odpowiedź wypełnij tam gdzie jest na to wskazane miejsce - odpowiedzi w innych miejscach nie będą sprawdzane (nie są widoczne dla sprawdzającego w systemie).\n",
        "\n",
        "Make sure you fill in any place that says `YOUR CODE HERE` or \"YOUR ANSWER HERE\"."
      ]
    },
    {
      "cell_type": "markdown",
      "metadata": {
        "id": "kEYiqITRATh6",
        "colab_type": "text"
      },
      "source": [
        "---"
      ]
    },
    {
      "cell_type": "markdown",
      "metadata": {
        "id": "V6RsHdEOATh6",
        "colab_type": "text"
      },
      "source": [
        "# Moduł 5: Statystyczne tłumaczenie maszynowe\n",
        "\n",
        "## Zadanie 1\n",
        "Zadanie polega na zaimplementowaniu algorytmu Expectation-Maximization w modelu IBM Model 1 do przypasowywania słów. Będzie to fragment modelu, który tłumaczyć będzie z hiszpańskiego na angielski. \n",
        "\n",
        "UWAGA: Specjalny token \"NULL\" pomijamy w implementacji.\n",
        "\n",
        "Dany jest mini-korpus równoległy angielsko-hiszpański\n",
        "- \"green house\" \"casa verde\"\n",
        "- \"the house\" \"la casa\"\n",
        "- \"the green house\" \"la casa verde\"\n"
      ]
    },
    {
      "cell_type": "code",
      "metadata": {
        "id": "uHxApu6iATh7",
        "colab_type": "code",
        "colab": {}
      },
      "source": [
        "import itertools\n",
        "english = [[\"green\",\"house\"], [\"the\",\"house\"], [\"the\", \"green\", \"house\"]]\n",
        "spanish = [[\"casa\", \"verde\"], [\"la\", \"casa\"], [\"la\", \"casa\", \"verde\"]]"
      ],
      "execution_count": 0,
      "outputs": []
    },
    {
      "cell_type": "markdown",
      "metadata": {
        "id": "NNqrHEy-ATh_",
        "colab_type": "text"
      },
      "source": [
        "W dalszych funkcjach przydatne może być wyznaczenie słownika czyli zbioru słów z korpusu dla danego języka."
      ]
    },
    {
      "cell_type": "code",
      "metadata": {
        "deletable": false,
        "nbgrader": {
          "cell_type": "code",
          "checksum": "ab962d04ff327161dd545fd42ce9b2ee",
          "grade": false,
          "grade_id": "cell-91ce5ad3201d3840",
          "locked": false,
          "schema_version": 3,
          "solution": true,
          "task": false
        },
        "id": "kpX5yTosATh_",
        "colab_type": "code",
        "colab": {}
      },
      "source": [
        "def get_vocabulary(corpus):\n",
        "    \"\"\"\n",
        "    Funkcja zwracająca listę unikalnych słów z korpusu podanego w formacie zmiennej english i spanish\n",
        "    \"\"\"\n",
        "    # YOUR CODE HERE\n",
        "    raise NotImplementedError()"
      ],
      "execution_count": 0,
      "outputs": []
    },
    {
      "cell_type": "code",
      "metadata": {
        "deletable": false,
        "editable": false,
        "nbgrader": {
          "cell_type": "code",
          "checksum": "03f2fde3e2385f2037bcb146ba7914e5",
          "grade": true,
          "grade_id": "cell-69a37d074c36bafa",
          "locked": true,
          "points": 1,
          "schema_version": 3,
          "solution": false,
          "task": false
        },
        "id": "w_Vp7tSTATiB",
        "colab_type": "code",
        "colab": {}
      },
      "source": [
        "from nose.tools import assert_set_equal\n",
        "assert_set_equal(set(get_vocabulary(english)), set([\"the\", \"green\", \"house\"]))"
      ],
      "execution_count": 0,
      "outputs": []
    },
    {
      "cell_type": "markdown",
      "metadata": {
        "id": "hF0jeVGvATiE",
        "colab_type": "text"
      },
      "source": [
        "Zainicjalizuj rozkład prawdopodobieństwa tłumaczenia słów rozkładem jednorodnym. Ponieważ zależy nam na prostocie implementacji (a nie efektywności) możemy to prawdopodobieństwo zaimplementować jako zwykły słownik, który będzie przyjmował na wejściu krotkę dwóch słów. Słownik nazwij `translation_prob` z kluczami (słowo_es, słowo_en)."
      ]
    },
    {
      "cell_type": "code",
      "metadata": {
        "deletable": false,
        "nbgrader": {
          "cell_type": "code",
          "checksum": "c5f903d8e7d39b8ca60c841fe1ff55b3",
          "grade": false,
          "grade_id": "cell-d90e10211e9d2c82",
          "locked": false,
          "schema_version": 3,
          "solution": true,
          "task": false
        },
        "id": "nB0-c3eaATiE",
        "colab_type": "code",
        "colab": {}
      },
      "source": [
        "def initalize_translation_prob(corpus1, corpus2):\n",
        "    # YOUR CODE HERE\n",
        "    raise NotImplementedError()\n",
        "translation_prob = initalize_translation_prob(english, spanish)"
      ],
      "execution_count": 0,
      "outputs": []
    },
    {
      "cell_type": "markdown",
      "metadata": {
        "id": "hc7NmdcHATiH",
        "colab_type": "text"
      },
      "source": [
        "Wypisz zaincjalizowany słownik, żeby upewnić się że wynik jest prawidłowy."
      ]
    },
    {
      "cell_type": "code",
      "metadata": {
        "id": "jVX1SLwhATiH",
        "colab_type": "code",
        "colab": {}
      },
      "source": [
        "translation_prob"
      ],
      "execution_count": 0,
      "outputs": []
    },
    {
      "cell_type": "markdown",
      "metadata": {
        "id": "mVuHLwD7ATiJ",
        "colab_type": "text"
      },
      "source": [
        "Zaimplementuj pierwszy krok algorytmu EM. Wyznacz wartości oczekiwane zmiennych przypisania słowa we wszystkich zdaniach w korpusie (oznaczane na wykładzie jako `a`)."
      ]
    },
    {
      "cell_type": "code",
      "metadata": {
        "deletable": false,
        "nbgrader": {
          "cell_type": "code",
          "checksum": "b120bdbf77612fba126fed52c1626544",
          "grade": false,
          "grade_id": "cell-20e467cd48dc07f4",
          "locked": false,
          "schema_version": 3,
          "solution": true,
          "task": false
        },
        "id": "vDkMPlbSATiK",
        "colab_type": "code",
        "colab": {}
      },
      "source": [
        "def calculate_expectation(corpora1, corpora2, translation_prob):\n",
        "    \"\"\"\n",
        "    Procedura wykonująca krok \"E\" algorytmu EM\n",
        "    Wynikiem powinny być wartości oczekiwane dla zmiennej przypisań słów w zdaniach \n",
        "    (reprezentacja dowolna, nie weryfikowana przez sprawdzarkę)\n",
        "    \"\"\"\n",
        "    # YOUR CODE HERE\n",
        "    raise NotImplementedError()\n",
        "assigment_expected_values = calculate_expectation(english, spanish, translation_prob)"
      ],
      "execution_count": 0,
      "outputs": []
    },
    {
      "cell_type": "markdown",
      "metadata": {
        "id": "7ICeNgp_ATiM",
        "colab_type": "text"
      },
      "source": [
        "Wypisz wartości oczekiwane zmiennych przypisań, aby zobaczyć jak wyglądają. Powinny one również prezentować całkowity brak wiedzy o przypisaniach (rozkłady jednorodne)."
      ]
    },
    {
      "cell_type": "code",
      "metadata": {
        "id": "nZHPL8ZHATiN",
        "colab_type": "code",
        "colab": {}
      },
      "source": [
        "assigment_expected_values"
      ],
      "execution_count": 0,
      "outputs": []
    },
    {
      "cell_type": "markdown",
      "metadata": {
        "id": "Yu_NvGpVATiP",
        "colab_type": "text"
      },
      "source": [
        "Zaimplementuj drugi krok algorytmu EM. Wyznacz nowe `translation_prob` na podstawie oczekiwanych wartości zmiennych przypisań."
      ]
    },
    {
      "cell_type": "code",
      "metadata": {
        "deletable": false,
        "nbgrader": {
          "cell_type": "code",
          "checksum": "8f67c4062342e3a60cbbb1b28a783d37",
          "grade": false,
          "grade_id": "cell-5806efe4531f9f01",
          "locked": false,
          "schema_version": 3,
          "solution": true,
          "task": false
        },
        "id": "l-AzAn_FATiP",
        "colab_type": "code",
        "colab": {}
      },
      "source": [
        "def calculate_maximization(corpora1, corpora2, assigment_expected_values):\n",
        "    # YOUR CODE HERE\n",
        "    raise NotImplementedError()\n",
        "\n",
        "translation_prob = calculate_maximization(english, spanish, assigment_expected_values)"
      ],
      "execution_count": 0,
      "outputs": []
    },
    {
      "cell_type": "code",
      "metadata": {
        "deletable": false,
        "editable": false,
        "nbgrader": {
          "cell_type": "code",
          "checksum": "0d92bddac888f1ab9d18c6ac43260456",
          "grade": true,
          "grade_id": "cell-4d5309aeab35f6c7",
          "locked": true,
          "points": 8,
          "schema_version": 3,
          "solution": false,
          "task": false
        },
        "id": "eQxtzux6ATiR",
        "colab_type": "code",
        "colab": {}
      },
      "source": [
        "from nose.tools import assert_almost_equal\n",
        "assert_almost_equal(translation_prob[('casa', 'house')], 4/9.)\n",
        "assert_almost_equal(translation_prob[('la', 'house')], 5/18.)"
      ],
      "execution_count": 0,
      "outputs": []
    },
    {
      "cell_type": "markdown",
      "metadata": {
        "id": "XhuVATPwATiT",
        "colab_type": "text"
      },
      "source": [
        "Wywołaj w pętli 10 kroków algorytmu EM i zaobserwuj jak zmieniają się prawdopodobieństwa dla tłumacznienia \"house\"."
      ]
    },
    {
      "cell_type": "code",
      "metadata": {
        "id": "hTyfkyajATiT",
        "colab_type": "code",
        "colab": {}
      },
      "source": [
        "for i in range(10):\n",
        "    assigment_expected_values = calculate_expectation(english, spanish, translation_prob)\n",
        "    translation_prob = calculate_maximization(english, spanish, assigment_expected_values)\n",
        "    print([(i,j) for i,j in translation_prob.items() if i[1] == \"house\"])\n",
        "    print(\"---\")\n"
      ],
      "execution_count": 0,
      "outputs": []
    },
    {
      "cell_type": "markdown",
      "metadata": {
        "id": "KC9yT5GNATiW",
        "colab_type": "text"
      },
      "source": [
        "Wywołaj algorytm EM na poniższym korpusie."
      ]
    },
    {
      "cell_type": "code",
      "metadata": {
        "id": "UafTB69WATiW",
        "colab_type": "code",
        "colab": {}
      },
      "source": [
        "english2 = [[\"the\",\"dog\"], [\"the\",\"house\"], [\"the\", \"green\", \"house\"]]\n",
        "polish = [[\"pies\"], [\"dom\"], [\"zielony\", \"dom\"]]"
      ],
      "execution_count": 0,
      "outputs": []
    },
    {
      "cell_type": "code",
      "metadata": {
        "deletable": false,
        "nbgrader": {
          "cell_type": "code",
          "checksum": "d7e69515106c187cdfce882609a23b6e",
          "grade": false,
          "grade_id": "cell-cff38f444b9c8d1a",
          "locked": false,
          "schema_version": 3,
          "solution": true,
          "task": false
        },
        "id": "xX-bEK5yATiZ",
        "colab_type": "code",
        "colab": {}
      },
      "source": [
        "# YOUR CODE HERE\n",
        "raise NotImplementedError()"
      ],
      "execution_count": 0,
      "outputs": []
    },
    {
      "cell_type": "markdown",
      "metadata": {
        "deletable": false,
        "editable": false,
        "nbgrader": {
          "cell_type": "markdown",
          "checksum": "4755d83d4ecebe39866dccbb275fec90",
          "grade": false,
          "grade_id": "cell-9dfc99a37938134a",
          "locked": true,
          "points": 0,
          "schema_version": 3,
          "solution": false,
          "task": true
        },
        "id": "nQZy2AcxATie",
        "colab_type": "text"
      },
      "source": [
        "Sprawdź jak wyglądają prawdopodobieństwa tłumaczeń po 10 iteracjach."
      ]
    },
    {
      "cell_type": "code",
      "metadata": {
        "id": "xks84GFVATie",
        "colab_type": "code",
        "colab": {}
      },
      "source": [
        "translation_prob"
      ],
      "execution_count": 0,
      "outputs": []
    },
    {
      "cell_type": "markdown",
      "metadata": {
        "id": "xczDjdrRATih",
        "colab_type": "text"
      },
      "source": [
        "Sprawdź czy gdybyś dodał słówko `NULL` to algorytm nauczyłby się wiązać słówko `NULL` na `the`, które nie występuje w języku polskim?"
      ]
    },
    {
      "cell_type": "code",
      "metadata": {
        "deletable": false,
        "nbgrader": {
          "cell_type": "code",
          "checksum": "916e8668bbff73c5896171de57b8e0f1",
          "grade": true,
          "grade_id": "cell-874a2c94ce1bd996",
          "locked": false,
          "points": 1,
          "schema_version": 3,
          "solution": true,
          "task": false
        },
        "id": "_jayuRBdATih",
        "colab_type": "code",
        "colab": {}
      },
      "source": [
        "# YOUR CODE HERE\n",
        "raise NotImplementedError()"
      ],
      "execution_count": 0,
      "outputs": []
    },
    {
      "cell_type": "code",
      "metadata": {
        "id": "tHNpwugzATij",
        "colab_type": "code",
        "colab": {}
      },
      "source": [
        "translation_prob"
      ],
      "execution_count": 0,
      "outputs": []
    },
    {
      "cell_type": "markdown",
      "metadata": {
        "id": "cuLol8ncATim",
        "colab_type": "text"
      },
      "source": [
        "Jeśli wywołałbyś EM dla pierwszego korpusu równoległego (zmienne `english` i `spanish`) i dołączył tokeny `NULL` to EM tłumaczy NULL jako \"casa\" i \"house\" jako \"casa\" z takimi samymi prawdopodobieństwami. Dlaczego?"
      ]
    },
    {
      "cell_type": "markdown",
      "metadata": {
        "deletable": false,
        "nbgrader": {
          "cell_type": "markdown",
          "checksum": "688634a67e83abb3398e068a602702b7",
          "grade": true,
          "grade_id": "cell-0982ba49d3a2f657",
          "locked": false,
          "points": 1,
          "schema_version": 3,
          "solution": true,
          "task": false
        },
        "id": "mMUU1FPJATim",
        "colab_type": "text"
      },
      "source": [
        "YOUR ANSWER HERE"
      ]
    }
  ]
}